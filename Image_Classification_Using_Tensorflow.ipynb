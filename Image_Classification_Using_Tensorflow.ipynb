{
 "cells": [
  {
   "cell_type": "code",
   "execution_count": 1,
   "id": "b23d3fdc",
   "metadata": {
    "_cell_guid": "b1076dfc-b9ad-4769-8c92-a6c4dae69d19",
    "_uuid": "8f2839f25d086af736a60e9eeb907d3b93b6e0e5",
    "execution": {
     "iopub.execute_input": "2022-07-24T03:41:51.972997Z",
     "iopub.status.busy": "2022-07-24T03:41:51.972346Z",
     "iopub.status.idle": "2022-07-24T03:41:52.020859Z",
     "shell.execute_reply": "2022-07-24T03:41:52.019612Z"
    },
    "papermill": {
     "duration": 0.061579,
     "end_time": "2022-07-24T03:41:52.023465",
     "exception": false,
     "start_time": "2022-07-24T03:41:51.961886",
     "status": "completed"
    },
    "tags": []
   },
   "outputs": [
    {
     "name": "stdout",
     "output_type": "stream",
     "text": [
      "/kaggle/input/cifar10/data_batch_1\n",
      "/kaggle/input/cifar10/data_batch_2\n",
      "/kaggle/input/cifar10/test_batch\n",
      "/kaggle/input/cifar10/data_batch_3\n",
      "/kaggle/input/cifar10/data_batch_5\n",
      "/kaggle/input/cifar10/data_batch_4\n",
      "/kaggle/input/cifar10-python/cifar-10-python.tar.gz\n",
      "/kaggle/input/cifar10-python/cifar-10-batches-py/data_batch_1\n",
      "/kaggle/input/cifar10-python/cifar-10-batches-py/data_batch_2\n",
      "/kaggle/input/cifar10-python/cifar-10-batches-py/batches.meta\n",
      "/kaggle/input/cifar10-python/cifar-10-batches-py/test_batch\n",
      "/kaggle/input/cifar10-python/cifar-10-batches-py/data_batch_3\n",
      "/kaggle/input/cifar10-python/cifar-10-batches-py/data_batch_5\n",
      "/kaggle/input/cifar10-python/cifar-10-batches-py/data_batch_4\n",
      "/kaggle/input/cifar10-python/cifar-10-batches-py/readme.html\n"
     ]
    }
   ],
   "source": [
    "# This Python 3 environment comes with many helpful analytics libraries installed\n",
    "# It is defined by the kaggle/python Docker image: https://github.com/kaggle/docker-python\n",
    "# For example, here's several helpful packages to load\n",
    "\n",
    "import numpy as np # linear algebra\n",
    "import pandas as pd # data processing, CSV file I/O (e.g. pd.read_csv)\n",
    "\n",
    "# Input data files are available in the read-only \"../input/\" directory\n",
    "# For example, running this (by clicking run or pressing Shift+Enter) will list all files under the input directory\n",
    "\n",
    "import os\n",
    "for dirname, _, filenames in os.walk('/kaggle/input'):\n",
    "    for filename in filenames:\n",
    "        print(os.path.join(dirname, filename))\n",
    "\n",
    "# You can write up to 20GB to the current directory (/kaggle/working/) that gets preserved as output when you create a version using \"Save & Run All\" \n",
    "# You can also write temporary files to /kaggle/temp/, but they won't be saved outside of the current session"
   ]
  },
  {
   "cell_type": "code",
   "execution_count": 2,
   "id": "270044d6",
   "metadata": {
    "execution": {
     "iopub.execute_input": "2022-07-24T03:41:52.040923Z",
     "iopub.status.busy": "2022-07-24T03:41:52.040497Z",
     "iopub.status.idle": "2022-07-24T03:41:52.046211Z",
     "shell.execute_reply": "2022-07-24T03:41:52.045380Z"
    },
    "papermill": {
     "duration": 0.01676,
     "end_time": "2022-07-24T03:41:52.048181",
     "exception": false,
     "start_time": "2022-07-24T03:41:52.031421",
     "status": "completed"
    },
    "tags": []
   },
   "outputs": [],
   "source": [
    "import pandas as pd\n",
    "import numpy as np\n",
    "import matplotlib.pyplot as plt\n",
    "%matplotlib inline"
   ]
  },
  {
   "cell_type": "code",
   "execution_count": 3,
   "id": "699f5b92",
   "metadata": {
    "execution": {
     "iopub.execute_input": "2022-07-24T03:41:52.065003Z",
     "iopub.status.busy": "2022-07-24T03:41:52.064397Z",
     "iopub.status.idle": "2022-07-24T03:41:59.041221Z",
     "shell.execute_reply": "2022-07-24T03:41:59.039954Z"
    },
    "papermill": {
     "duration": 6.988344,
     "end_time": "2022-07-24T03:41:59.044022",
     "exception": false,
     "start_time": "2022-07-24T03:41:52.055678",
     "status": "completed"
    },
    "tags": []
   },
   "outputs": [],
   "source": [
    "import tensorflow as tf\n",
    "from tensorflow.keras.datasets import cifar10\n",
    "from tensorflow.keras import layers, models\n",
    "from tensorflow.keras.utils import to_categorical"
   ]
  },
  {
   "cell_type": "code",
   "execution_count": 4,
   "id": "b1e4bbf7",
   "metadata": {
    "execution": {
     "iopub.execute_input": "2022-07-24T03:41:59.061587Z",
     "iopub.status.busy": "2022-07-24T03:41:59.060599Z",
     "iopub.status.idle": "2022-07-24T03:42:03.743148Z",
     "shell.execute_reply": "2022-07-24T03:42:03.741875Z"
    },
    "papermill": {
     "duration": 4.694099,
     "end_time": "2022-07-24T03:42:03.745839",
     "exception": false,
     "start_time": "2022-07-24T03:41:59.051740",
     "status": "completed"
    },
    "tags": []
   },
   "outputs": [
    {
     "name": "stdout",
     "output_type": "stream",
     "text": [
      "Downloading data from https://www.cs.toronto.edu/~kriz/cifar-10-python.tar.gz\n",
      "170500096/170498071 [==============================] - 2s 0us/step\n",
      "170508288/170498071 [==============================] - 2s 0us/step\n"
     ]
    }
   ],
   "source": [
    "(x_Train, y_Train), (x_Test, y_Test) = cifar10.load_data()"
   ]
  },
  {
   "cell_type": "code",
   "execution_count": 5,
   "id": "3a714bd2",
   "metadata": {
    "execution": {
     "iopub.execute_input": "2022-07-24T03:42:03.771483Z",
     "iopub.status.busy": "2022-07-24T03:42:03.770687Z",
     "iopub.status.idle": "2022-07-24T03:42:03.777064Z",
     "shell.execute_reply": "2022-07-24T03:42:03.775833Z"
    },
    "papermill": {
     "duration": 0.023228,
     "end_time": "2022-07-24T03:42:03.780929",
     "exception": false,
     "start_time": "2022-07-24T03:42:03.757701",
     "status": "completed"
    },
    "tags": []
   },
   "outputs": [
    {
     "name": "stdout",
     "output_type": "stream",
     "text": [
      "x_Train shape: (50000, 32, 32, 3)\n",
      "y_Train shape: (50000, 1)\n",
      "x_Test shape: (10000, 32, 32, 3)\n",
      "y_Test shape: (10000, 1)\n"
     ]
    }
   ],
   "source": [
    "print(f\"x_Train shape: {x_Train.shape}\")\n",
    "print(f\"y_Train shape: {y_Train.shape}\")\n",
    "print(f\"x_Test shape: {x_Test.shape}\")\n",
    "print(f\"y_Test shape: {y_Test.shape}\")"
   ]
  },
  {
   "cell_type": "code",
   "execution_count": 6,
   "id": "3cdeca57",
   "metadata": {
    "execution": {
     "iopub.execute_input": "2022-07-24T03:42:03.807732Z",
     "iopub.status.busy": "2022-07-24T03:42:03.807014Z",
     "iopub.status.idle": "2022-07-24T03:42:03.816974Z",
     "shell.execute_reply": "2022-07-24T03:42:03.816187Z"
    },
    "papermill": {
     "duration": 0.025635,
     "end_time": "2022-07-24T03:42:03.819203",
     "exception": false,
     "start_time": "2022-07-24T03:42:03.793568",
     "status": "completed"
    },
    "tags": []
   },
   "outputs": [
    {
     "data": {
      "text/plain": [
       "array([[6],\n",
       "       [9],\n",
       "       [9],\n",
       "       [4],\n",
       "       [1]], dtype=uint8)"
      ]
     },
     "execution_count": 6,
     "metadata": {},
     "output_type": "execute_result"
    }
   ],
   "source": [
    "y_Train[:5]"
   ]
  },
  {
   "cell_type": "code",
   "execution_count": 7,
   "id": "05d58091",
   "metadata": {
    "execution": {
     "iopub.execute_input": "2022-07-24T03:42:03.846158Z",
     "iopub.status.busy": "2022-07-24T03:42:03.845488Z",
     "iopub.status.idle": "2022-07-24T03:42:03.851860Z",
     "shell.execute_reply": "2022-07-24T03:42:03.851076Z"
    },
    "papermill": {
     "duration": 0.022183,
     "end_time": "2022-07-24T03:42:03.853836",
     "exception": false,
     "start_time": "2022-07-24T03:42:03.831653",
     "status": "completed"
    },
    "tags": []
   },
   "outputs": [
    {
     "data": {
      "text/plain": [
       "array([6, 9, 9, 4, 1], dtype=uint8)"
      ]
     },
     "execution_count": 7,
     "metadata": {},
     "output_type": "execute_result"
    }
   ],
   "source": [
    "y_Train = y_Train.reshape(-1,)\n",
    "y_Train[:5]"
   ]
  },
  {
   "cell_type": "code",
   "execution_count": 8,
   "id": "89c22122",
   "metadata": {
    "execution": {
     "iopub.execute_input": "2022-07-24T03:42:03.880835Z",
     "iopub.status.busy": "2022-07-24T03:42:03.880109Z",
     "iopub.status.idle": "2022-07-24T03:42:03.884562Z",
     "shell.execute_reply": "2022-07-24T03:42:03.883789Z"
    },
    "papermill": {
     "duration": 0.020183,
     "end_time": "2022-07-24T03:42:03.886633",
     "exception": false,
     "start_time": "2022-07-24T03:42:03.866450",
     "status": "completed"
    },
    "tags": []
   },
   "outputs": [],
   "source": [
    "y_Test = y_Test.reshape(-1,)"
   ]
  },
  {
   "cell_type": "code",
   "execution_count": 9,
   "id": "aa8a5621",
   "metadata": {
    "execution": {
     "iopub.execute_input": "2022-07-24T03:42:03.913051Z",
     "iopub.status.busy": "2022-07-24T03:42:03.912635Z",
     "iopub.status.idle": "2022-07-24T03:42:03.917730Z",
     "shell.execute_reply": "2022-07-24T03:42:03.916737Z"
    },
    "papermill": {
     "duration": 0.021094,
     "end_time": "2022-07-24T03:42:03.919796",
     "exception": false,
     "start_time": "2022-07-24T03:42:03.898702",
     "status": "completed"
    },
    "tags": []
   },
   "outputs": [],
   "source": [
    "\n",
    "classes = [\"airplane\",\"automobile\",\"bird\",\"cat\",\"deer\",\"dog\",\"frog\",\"horse\",\"ship\",\"truck\"]"
   ]
  },
  {
   "cell_type": "code",
   "execution_count": 10,
   "id": "a3e2c542",
   "metadata": {
    "execution": {
     "iopub.execute_input": "2022-07-24T03:42:03.948639Z",
     "iopub.status.busy": "2022-07-24T03:42:03.947999Z",
     "iopub.status.idle": "2022-07-24T03:42:03.953112Z",
     "shell.execute_reply": "2022-07-24T03:42:03.952107Z"
    },
    "papermill": {
     "duration": 0.021991,
     "end_time": "2022-07-24T03:42:03.955352",
     "exception": false,
     "start_time": "2022-07-24T03:42:03.933361",
     "status": "completed"
    },
    "tags": []
   },
   "outputs": [],
   "source": [
    "def plot_sample(X, y, index):\n",
    "    plt.figure(figsize = (15,2))\n",
    "    plt.imshow(X[index])\n",
    "    plt.xlabel(classes[y[index]])"
   ]
  },
  {
   "cell_type": "code",
   "execution_count": 11,
   "id": "8fd49414",
   "metadata": {
    "execution": {
     "iopub.execute_input": "2022-07-24T03:42:03.981750Z",
     "iopub.status.busy": "2022-07-24T03:42:03.981049Z",
     "iopub.status.idle": "2022-07-24T03:42:04.167673Z",
     "shell.execute_reply": "2022-07-24T03:42:04.166511Z"
    },
    "papermill": {
     "duration": 0.202552,
     "end_time": "2022-07-24T03:42:04.170072",
     "exception": false,
     "start_time": "2022-07-24T03:42:03.967520",
     "status": "completed"
    },
    "tags": []
   },
   "outputs": [
    {
     "data": {
      "image/png": "[encoded data removed]",
      "text/plain": [
       "<Figure size 1080x144 with 1 Axes>"
      ]
     },
     "metadata": {
      "needs_background": "light"
     },
     "output_type": "display_data"
    }
   ],
   "source": [
    "plot_sample(x_Train, y_Train, 1)"
   ]
  },
  {
   "cell_type": "code",
   "execution_count": 12,
   "id": "5696a1e2",
   "metadata": {
    "execution": {
     "iopub.execute_input": "2022-07-24T03:42:04.197793Z",
     "iopub.status.busy": "2022-07-24T03:42:04.196722Z",
     "iopub.status.idle": "2022-07-24T03:42:04.399063Z",
     "shell.execute_reply": "2022-07-24T03:42:04.397887Z"
    },
    "papermill": {
     "duration": 0.218836,
     "end_time": "2022-07-24T03:42:04.401536",
     "exception": false,
     "start_time": "2022-07-24T03:42:04.182700",
     "status": "completed"
    },
    "tags": []
   },
   "outputs": [
    {
     "data": {
      "text/plain": [
       "Text(0.5, 1.0, 'Class distribution in training set')"
      ]
     },
     "execution_count": 12,
     "metadata": {},
     "output_type": "execute_result"
    },
    {
     "data": {
      "image/png": "[encoded data removed]",
      "text/plain": [
       "<Figure size 432x288 with 1 Axes>"
      ]
     },
     "metadata": {
      "needs_background": "light"
     },
     "output_type": "display_data"
    }
   ],
   "source": [
    "classes_name = ['Airplane', 'Automobile', 'Bird', 'Cat', 'Deer', 'Dog', 'Frog', 'Horse', 'Ship', 'Truck']\n",
    "\n",
    "classes, counts = np.unique(y_Train, return_counts=True)\n",
    "plt.barh(classes_name, counts)\n",
    "plt.title('Class distribution in training set')"
   ]
  },
  {
   "cell_type": "code",
   "execution_count": 13,
   "id": "d2695bea",
   "metadata": {
    "execution": {
     "iopub.execute_input": "2022-07-24T03:42:04.430219Z",
     "iopub.status.busy": "2022-07-24T03:42:04.429797Z",
     "iopub.status.idle": "2022-07-24T03:42:04.796915Z",
     "shell.execute_reply": "2022-07-24T03:42:04.795757Z"
    },
    "papermill": {
     "duration": 0.384368,
     "end_time": "2022-07-24T03:42:04.799146",
     "exception": false,
     "start_time": "2022-07-24T03:42:04.414778",
     "status": "completed"
    },
    "tags": []
   },
   "outputs": [
    {
     "data": {
      "text/plain": [
       "Text(0.5, 1.0, 'Class distribution in testing set')"
      ]
     },
     "execution_count": 13,
     "metadata": {},
     "output_type": "execute_result"
    },
    {
     "data": {
      "image/png": "[encoded data removed]",
      "text/plain": [
       "<Figure size 432x288 with 1 Axes>"
      ]
     },
     "metadata": {
      "needs_background": "light"
     },
     "output_type": "display_data"
    }
   ],
   "source": [
    "classes, counts = np.unique(y_Test, return_counts=True)\n",
    "plt.barh(classes_name, counts)\n",
    "plt.title('Class distribution in testing set')"
   ]
  },
  {
   "cell_type": "code",
   "execution_count": 14,
   "id": "d40822b2",
   "metadata": {
    "execution": {
     "iopub.execute_input": "2022-07-24T03:42:04.827569Z",
     "iopub.status.busy": "2022-07-24T03:42:04.827167Z",
     "iopub.status.idle": "2022-07-24T03:42:05.520506Z",
     "shell.execute_reply": "2022-07-24T03:42:05.519325Z"
    },
    "papermill": {
     "duration": 0.710907,
     "end_time": "2022-07-24T03:42:05.523239",
     "exception": false,
     "start_time": "2022-07-24T03:42:04.812332",
     "status": "completed"
    },
    "tags": []
   },
   "outputs": [],
   "source": [
    "# Scale the data\n",
    "x_Train = x_Train / 255.0\n",
    "x_Test = x_Test / 255.0"
   ]
  },
  {
   "cell_type": "code",
   "execution_count": 15,
   "id": "95c9f287",
   "metadata": {
    "execution": {
     "iopub.execute_input": "2022-07-24T03:42:05.551546Z",
     "iopub.status.busy": "2022-07-24T03:42:05.551153Z",
     "iopub.status.idle": "2022-07-24T03:42:05.557969Z",
     "shell.execute_reply": "2022-07-24T03:42:05.557181Z"
    },
    "papermill": {
     "duration": 0.02356,
     "end_time": "2022-07-24T03:42:05.560049",
     "exception": false,
     "start_time": "2022-07-24T03:42:05.536489",
     "status": "completed"
    },
    "tags": []
   },
   "outputs": [],
   "source": [
    "# Transform target variable into one-hotencoding\n",
    "y_cat_Train = to_categorical(y_Train, 10)\n",
    "y_cat_Test = to_categorical(y_Test, 10)"
   ]
  },
  {
   "cell_type": "code",
   "execution_count": 16,
   "id": "d35e8ef0",
   "metadata": {
    "execution": {
     "iopub.execute_input": "2022-07-24T03:42:05.588843Z",
     "iopub.status.busy": "2022-07-24T03:42:05.587732Z",
     "iopub.status.idle": "2022-07-24T03:42:05.594593Z",
     "shell.execute_reply": "2022-07-24T03:42:05.593620Z"
    },
    "papermill": {
     "duration": 0.023543,
     "end_time": "2022-07-24T03:42:05.596666",
     "exception": false,
     "start_time": "2022-07-24T03:42:05.573123",
     "status": "completed"
    },
    "tags": []
   },
   "outputs": [
    {
     "data": {
      "text/plain": [
       "array([[0., 0., 0., ..., 0., 0., 0.],\n",
       "       [0., 0., 0., ..., 0., 0., 1.],\n",
       "       [0., 0., 0., ..., 0., 0., 1.],\n",
       "       ...,\n",
       "       [0., 0., 0., ..., 0., 0., 1.],\n",
       "       [0., 1., 0., ..., 0., 0., 0.],\n",
       "       [0., 1., 0., ..., 0., 0., 0.]], dtype=float32)"
      ]
     },
     "execution_count": 16,
     "metadata": {},
     "output_type": "execute_result"
    }
   ],
   "source": [
    "y_cat_Train"
   ]
  },
  {
   "cell_type": "code",
   "execution_count": 17,
   "id": "96964292",
   "metadata": {
    "execution": {
     "iopub.execute_input": "2022-07-24T03:42:05.625977Z",
     "iopub.status.busy": "2022-07-24T03:42:05.625297Z",
     "iopub.status.idle": "2022-07-24T03:45:53.158252Z",
     "shell.execute_reply": "2022-07-24T03:45:53.156899Z"
    },
    "papermill": {
     "duration": 227.550335,
     "end_time": "2022-07-24T03:45:53.160775",
     "exception": false,
     "start_time": "2022-07-24T03:42:05.610440",
     "status": "completed"
    },
    "tags": []
   },
   "outputs": [
    {
     "name": "stderr",
     "output_type": "stream",
     "text": [
      "2022-07-24 03:42:05.673952: I tensorflow/core/common_runtime/process_util.cc:146] Creating new thread pool with default inter op setting: 2. Tune using inter_op_parallelism_threads for best performance.\n",
      "2022-07-24 03:42:07.151939: I tensorflow/compiler/mlir/mlir_graph_optimization_pass.cc:185] None of the MLIR Optimization Passes are enabled (registered 2)\n"
     ]
    },
    {
     "name": "stdout",
     "output_type": "stream",
     "text": [
      "Epoch 1/5\n",
      "1563/1563 [==============================] - 45s 29ms/step - loss: 1.8157 - accuracy: 0.3525\n",
      "Epoch 2/5\n",
      "1563/1563 [==============================] - 45s 29ms/step - loss: 1.6275 - accuracy: 0.4238\n",
      "Epoch 3/5\n",
      "1563/1563 [==============================] - 45s 29ms/step - loss: 1.5430 - accuracy: 0.4566\n",
      "Epoch 4/5\n",
      "1563/1563 [==============================] - 45s 29ms/step - loss: 1.4819 - accuracy: 0.4760\n",
      "Epoch 5/5\n",
      "1563/1563 [==============================] - 45s 29ms/step - loss: 1.4342 - accuracy: 0.4957\n"
     ]
    },
    {
     "data": {
      "text/plain": [
       "<keras.callbacks.History at 0x7fc77eb282d0>"
      ]
     },
     "execution_count": 17,
     "metadata": {},
     "output_type": "execute_result"
    }
   ],
   "source": [
    "ann = models.Sequential([\n",
    "        layers.Flatten(input_shape=(32,32,3)),\n",
    "        layers.Dense(3000, activation='relu'),\n",
    "        layers.Dense(1000, activation='relu'),\n",
    "        layers.Dense(10, activation='softmax')    \n",
    "    ])\n",
    "\n",
    "ann.compile(optimizer='SGD',\n",
    "              loss='sparse_categorical_crossentropy',\n",
    "              metrics=['accuracy'])\n",
    "\n",
    "ann.fit(x_Train, y_Train, epochs=5)"
   ]
  },
  {
   "cell_type": "code",
   "execution_count": 18,
   "id": "fc56ea6a",
   "metadata": {
    "execution": {
     "iopub.execute_input": "2022-07-24T03:45:53.880304Z",
     "iopub.status.busy": "2022-07-24T03:45:53.879713Z",
     "iopub.status.idle": "2022-07-24T03:45:53.944357Z",
     "shell.execute_reply": "2022-07-24T03:45:53.943178Z"
    },
    "papermill": {
     "duration": 0.448734,
     "end_time": "2022-07-24T03:45:53.947184",
     "exception": false,
     "start_time": "2022-07-24T03:45:53.498450",
     "status": "completed"
    },
    "tags": []
   },
   "outputs": [],
   "source": [
    "\n",
    "cnn = models.Sequential([\n",
    "    layers.Conv2D(filters=32, kernel_size=(3, 3), activation='relu', input_shape=(32, 32, 3)),\n",
    "    layers.MaxPooling2D((2, 2)),\n",
    "    \n",
    "    layers.Conv2D(filters=64, kernel_size=(3, 3), activation='relu'),\n",
    "    layers.MaxPooling2D((2, 2)),\n",
    "    \n",
    "    layers.Flatten(),\n",
    "    layers.Dense(64, activation='relu'),\n",
    "    layers.Dense(10, activation='softmax')\n",
    "])"
   ]
  },
  {
   "cell_type": "code",
   "execution_count": 19,
   "id": "6df738f2",
   "metadata": {
    "execution": {
     "iopub.execute_input": "2022-07-24T03:45:54.536538Z",
     "iopub.status.busy": "2022-07-24T03:45:54.536163Z",
     "iopub.status.idle": "2022-07-24T03:45:54.549041Z",
     "shell.execute_reply": "2022-07-24T03:45:54.547886Z"
    },
    "papermill": {
     "duration": 0.311928,
     "end_time": "2022-07-24T03:45:54.551554",
     "exception": false,
     "start_time": "2022-07-24T03:45:54.239626",
     "status": "completed"
    },
    "tags": []
   },
   "outputs": [],
   "source": [
    "\n",
    "cnn.compile(optimizer='adam',\n",
    "              loss='sparse_categorical_crossentropy',\n",
    "              metrics=['accuracy'])"
   ]
  },
  {
   "cell_type": "code",
   "execution_count": 20,
   "id": "8e16d2c7",
   "metadata": {
    "execution": {
     "iopub.execute_input": "2022-07-24T03:45:55.135074Z",
     "iopub.status.busy": "2022-07-24T03:45:55.134395Z",
     "iopub.status.idle": "2022-07-24T03:49:42.356631Z",
     "shell.execute_reply": "2022-07-24T03:49:42.355272Z"
    },
    "papermill": {
     "duration": 227.517378,
     "end_time": "2022-07-24T03:49:42.359058",
     "exception": false,
     "start_time": "2022-07-24T03:45:54.841680",
     "status": "completed"
    },
    "tags": []
   },
   "outputs": [
    {
     "name": "stdout",
     "output_type": "stream",
     "text": [
      "Epoch 1/10\n",
      "1563/1563 [==============================] - 25s 16ms/step - loss: 1.4620 - accuracy: 0.4726\n",
      "Epoch 2/10\n",
      "1563/1563 [==============================] - 23s 15ms/step - loss: 1.0926 - accuracy: 0.6156\n",
      "Epoch 3/10\n",
      "1563/1563 [==============================] - 23s 14ms/step - loss: 0.9639 - accuracy: 0.6639\n",
      "Epoch 4/10\n",
      "1563/1563 [==============================] - 22s 14ms/step - loss: 0.8774 - accuracy: 0.6975\n",
      "Epoch 5/10\n",
      "1563/1563 [==============================] - 23s 14ms/step - loss: 0.8117 - accuracy: 0.7185\n",
      "Epoch 6/10\n",
      "1563/1563 [==============================] - 23s 14ms/step - loss: 0.7556 - accuracy: 0.7369\n",
      "Epoch 7/10\n",
      "1563/1563 [==============================] - 22s 14ms/step - loss: 0.7064 - accuracy: 0.7550\n",
      "Epoch 8/10\n",
      "1563/1563 [==============================] - 22s 14ms/step - loss: 0.6649 - accuracy: 0.7679\n",
      "Epoch 9/10\n",
      "1563/1563 [==============================] - 23s 15ms/step - loss: 0.6242 - accuracy: 0.7820\n",
      "Epoch 10/10\n",
      "1563/1563 [==============================] - 21s 14ms/step - loss: 0.5882 - accuracy: 0.7936\n"
     ]
    },
    {
     "data": {
      "text/plain": [
       "<keras.callbacks.History at 0x7fc776f810d0>"
      ]
     },
     "execution_count": 20,
     "metadata": {},
     "output_type": "execute_result"
    }
   ],
   "source": [
    "\n",
    "cnn.fit(x_Train, y_Train, epochs=10)"
   ]
  },
  {
   "cell_type": "code",
   "execution_count": 21,
   "id": "77e953d2",
   "metadata": {
    "execution": {
     "iopub.execute_input": "2022-07-24T03:49:43.575645Z",
     "iopub.status.busy": "2022-07-24T03:49:43.575265Z",
     "iopub.status.idle": "2022-07-24T03:49:46.537209Z",
     "shell.execute_reply": "2022-07-24T03:49:46.535746Z"
    },
    "papermill": {
     "duration": 3.600256,
     "end_time": "2022-07-24T03:49:46.539743",
     "exception": false,
     "start_time": "2022-07-24T03:49:42.939487",
     "status": "completed"
    },
    "tags": []
   },
   "outputs": [
    {
     "name": "stdout",
     "output_type": "stream",
     "text": [
      "313/313 [==============================] - 3s 7ms/step - loss: 0.9317 - accuracy: 0.6984\n"
     ]
    },
    {
     "data": {
      "text/plain": [
       "[0.9317351579666138, 0.6984000205993652]"
      ]
     },
     "execution_count": 21,
     "metadata": {},
     "output_type": "execute_result"
    }
   ],
   "source": [
    "cnn.evaluate(x_Test,y_Test)"
   ]
  },
  {
   "cell_type": "code",
   "execution_count": 22,
   "id": "0ef8c8fb",
   "metadata": {
    "execution": {
     "iopub.execute_input": "2022-07-24T03:49:47.788720Z",
     "iopub.status.busy": "2022-07-24T03:49:47.787714Z",
     "iopub.status.idle": "2022-07-24T03:49:49.556430Z",
     "shell.execute_reply": "2022-07-24T03:49:49.555040Z"
    },
    "papermill": {
     "duration": 2.37802,
     "end_time": "2022-07-24T03:49:49.559034",
     "exception": false,
     "start_time": "2022-07-24T03:49:47.181014",
     "status": "completed"
    },
    "tags": []
   },
   "outputs": [
    {
     "data": {
      "text/plain": [
       "array([[7.1605272e-04, 1.0391019e-04, 5.3361645e-03, 9.2851740e-01,\n",
       "        2.3971922e-03, 1.4295626e-02, 4.2730343e-02, 2.2650188e-06,\n",
       "        5.8862115e-03, 1.4862129e-05],\n",
       "       [3.1535063e-05, 9.7853559e-01, 6.1895287e-07, 6.9830000e-09,\n",
       "        6.9587953e-11, 8.1278533e-11, 3.6978188e-11, 1.6251670e-08,\n",
       "        2.1385659e-02, 4.6573638e-05],\n",
       "       [9.2626244e-02, 5.3950363e-01, 5.0051175e-03, 2.5711793e-03,\n",
       "        2.6169562e-04, 3.8831314e-04, 4.1477144e-04, 4.5420625e-03,\n",
       "        3.4130213e-01, 1.3384802e-02],\n",
       "       [9.0150106e-01, 4.8942529e-03, 5.2962609e-02, 1.3540930e-04,\n",
       "        6.9039510e-05, 2.7192300e-06, 8.6041513e-07, 4.3708467e-05,\n",
       "        4.0353760e-02, 3.6629768e-05],\n",
       "       [4.3707144e-07, 1.5396005e-05, 8.1426576e-03, 3.6307801e-02,\n",
       "        1.2506042e-02, 2.0048758e-03, 9.4101650e-01, 1.1545401e-07,\n",
       "        5.6777994e-06, 4.4128737e-07]], dtype=float32)"
      ]
     },
     "execution_count": 22,
     "metadata": {},
     "output_type": "execute_result"
    }
   ],
   "source": [
    "y_pred = cnn.predict(x_Test)\n",
    "y_pred[:5]"
   ]
  },
  {
   "cell_type": "code",
   "execution_count": 23,
   "id": "aa56f609",
   "metadata": {
    "execution": {
     "iopub.execute_input": "2022-07-24T03:49:50.784375Z",
     "iopub.status.busy": "2022-07-24T03:49:50.783983Z",
     "iopub.status.idle": "2022-07-24T03:49:50.817811Z",
     "shell.execute_reply": "2022-07-24T03:49:50.816994Z"
    },
    "papermill": {
     "duration": 0.614751,
     "end_time": "2022-07-24T03:49:50.820285",
     "exception": false,
     "start_time": "2022-07-24T03:49:50.205534",
     "status": "completed"
    },
    "tags": []
   },
   "outputs": [
    {
     "data": {
      "text/plain": [
       "[3, 1, 1, 0, 6]"
      ]
     },
     "execution_count": 23,
     "metadata": {},
     "output_type": "execute_result"
    }
   ],
   "source": [
    "y_classes = [np.argmax(element) for element in y_pred]\n",
    "y_classes[:5]"
   ]
  },
  {
   "cell_type": "code",
   "execution_count": 24,
   "id": "78a9b2ff",
   "metadata": {
    "execution": {
     "iopub.execute_input": "2022-07-24T03:49:51.988619Z",
     "iopub.status.busy": "2022-07-24T03:49:51.987899Z",
     "iopub.status.idle": "2022-07-24T03:49:51.993637Z",
     "shell.execute_reply": "2022-07-24T03:49:51.992862Z"
    },
    "papermill": {
     "duration": 0.589308,
     "end_time": "2022-07-24T03:49:51.995618",
     "exception": false,
     "start_time": "2022-07-24T03:49:51.406310",
     "status": "completed"
    },
    "tags": []
   },
   "outputs": [
    {
     "data": {
      "text/plain": [
       "array([3, 8, 8, 0, 6], dtype=uint8)"
      ]
     },
     "execution_count": 24,
     "metadata": {},
     "output_type": "execute_result"
    }
   ],
   "source": [
    "y_Test[:5]"
   ]
  },
  {
   "cell_type": "code",
   "execution_count": 25,
   "id": "db0c4aeb",
   "metadata": {
    "execution": {
     "iopub.execute_input": "2022-07-24T03:49:53.221176Z",
     "iopub.status.busy": "2022-07-24T03:49:53.220506Z",
     "iopub.status.idle": "2022-07-24T03:49:53.381482Z",
     "shell.execute_reply": "2022-07-24T03:49:53.380466Z"
    },
    "papermill": {
     "duration": 0.747003,
     "end_time": "2022-07-24T03:49:53.383775",
     "exception": false,
     "start_time": "2022-07-24T03:49:52.636772",
     "status": "completed"
    },
    "tags": []
   },
   "outputs": [
    {
     "data": {
      "image/png": "[encoded data removed]",
      "text/plain": [
       "<Figure size 1080x144 with 1 Axes>"
      ]
     },
     "metadata": {
      "needs_background": "light"
     },
     "output_type": "display_data"
    }
   ],
   "source": [
    "plot_sample(x_Test, y_Test,4)"
   ]
  },
  {
   "cell_type": "code",
   "execution_count": 26,
   "id": "1580fcdc",
   "metadata": {
    "execution": {
     "iopub.execute_input": "2022-07-24T03:49:54.618044Z",
     "iopub.status.busy": "2022-07-24T03:49:54.617478Z",
     "iopub.status.idle": "2022-07-24T03:49:54.628087Z",
     "shell.execute_reply": "2022-07-24T03:49:54.626841Z"
    },
    "papermill": {
     "duration": 0.658084,
     "end_time": "2022-07-24T03:49:54.631190",
     "exception": false,
     "start_time": "2022-07-24T03:49:53.973106",
     "status": "completed"
    },
    "tags": []
   },
   "outputs": [
    {
     "data": {
      "text/plain": [
       "6"
      ]
     },
     "execution_count": 26,
     "metadata": {},
     "output_type": "execute_result"
    }
   ],
   "source": [
    "classes[y_classes[4]]"
   ]
  }
 ],
 "metadata": {
  "kernelspec": {
   "display_name": "Python 3",
   "language": "python",
   "name": "python3"
  },
  "language_info": {
   "codemirror_mode": {
    "name": "ipython",
    "version": 3
   },
   "file_extension": ".py",
   "mimetype": "text/x-python",
   "name": "python",
   "nbconvert_exporter": "python",
   "pygments_lexer": "ipython3",
   "version": "3.7.12"
  },
  "papermill": {
   "default_parameters": {},
   "duration": 496.257297,
   "end_time": "2022-07-24T03:49:58.199878",
   "environment_variables": {},
   "exception": null,
   "input_path": "__notebook__.ipynb",
   "output_path": "__notebook__.ipynb",
   "parameters": {},
   "start_time": "2022-07-24T03:41:41.942581",
   "version": "2.3.4"
  }
 },
 "nbformat": 4,
 "nbformat_minor": 5
}
